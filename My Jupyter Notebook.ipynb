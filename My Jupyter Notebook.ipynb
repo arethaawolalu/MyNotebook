{
 "cells": [
  {
   "cell_type": "markdown",
   "id": "01b1ea1c",
   "metadata": {},
   "source": [
    "# Data Scienec Tools and Ecosytem"
   ]
  },
  {
   "cell_type": "markdown",
   "id": "8ec535af",
   "metadata": {},
   "source": [
    "In this notebook, Data Science Tools and Ecosystems are summarized."
   ]
  },
  {
   "cell_type": "markdown",
   "id": "e59421b6",
   "metadata": {},
   "source": [
    "**Obejectives:**"
   ]
  },
  {
   "cell_type": "markdown",
   "id": "746d4835",
   "metadata": {},
   "source": [
    "* List popular languages that Data Scientist use\n",
    "* Libraries used by Data Scientist\n",
    "* Data Science Tools\n",
    "* Evaluating Arithmetic Operation"
   ]
  },
  {
   "cell_type": "markdown",
   "id": "aeef7da2",
   "metadata": {},
   "source": [
    "Some of the languages that Data Scientist use are:\n",
    "1. Python\n",
    "2. Scala\n",
    "3. Java\n",
    "4. R\n",
    "5. SQL\n",
    "6. C++\n"
   ]
  },
  {
   "cell_type": "markdown",
   "id": "326bc45a",
   "metadata": {},
   "source": [
    "Some of the commonly used libraries used by Data Scienctists include:\n",
    "\n",
    "1. Pandas\n",
    "2. Numpy\n",
    "3. Keras\n",
    "4. ScikitLearn\n",
    "5. MatplotLib\n",
    "6. TensorFlow"
   ]
  },
  {
   "cell_type": "markdown",
   "id": "fdd619e5",
   "metadata": {},
   "source": [
    "|Data Science Tools   |\n",
    "|---------------------|\n",
    "|Jupyter              |\n",
    "|RStudio              |\n",
    "|Watson Studio Desktop|"
   ]
  },
  {
   "cell_type": "markdown",
   "id": "3146f872",
   "metadata": {},
   "source": [
    "### Below are a few examples of evaluating arithmetic expressions in Python"
   ]
  },
  {
   "cell_type": "code",
   "execution_count": 2,
   "id": "ef180aae",
   "metadata": {},
   "outputs": [
    {
     "data": {
      "text/plain": [
       "17"
      ]
     },
     "execution_count": 2,
     "metadata": {},
     "output_type": "execute_result"
    }
   ],
   "source": [
    "# Multiplication operation\n",
    "(3*4)+5"
   ]
  },
  {
   "cell_type": "code",
   "execution_count": 4,
   "id": "b68c98bd",
   "metadata": {},
   "outputs": [
    {
     "data": {
      "text/plain": [
       "3.3333333333333335"
      ]
     },
     "execution_count": 4,
     "metadata": {},
     "output_type": "execute_result"
    }
   ],
   "source": [
    "# Convert minutes to hours\n",
    "200/60"
   ]
  },
  {
   "cell_type": "markdown",
   "id": "5b343ad6",
   "metadata": {},
   "source": [
    "## Author"
   ]
  },
  {
   "cell_type": "markdown",
   "id": "9d4e88f0",
   "metadata": {},
   "source": [
    "Aretha Awolalu"
   ]
  },
  {
   "cell_type": "code",
   "execution_count": null,
   "id": "1838c124",
   "metadata": {},
   "outputs": [],
   "source": []
  }
 ],
 "metadata": {
  "kernelspec": {
   "display_name": "Python 3 (ipykernel)",
   "language": "python",
   "name": "python3"
  },
  "language_info": {
   "codemirror_mode": {
    "name": "ipython",
    "version": 3
   },
   "file_extension": ".py",
   "mimetype": "text/x-python",
   "name": "python",
   "nbconvert_exporter": "python",
   "pygments_lexer": "ipython3",
   "version": "3.9.18"
  }
 },
 "nbformat": 4,
 "nbformat_minor": 5
}
